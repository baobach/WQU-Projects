{
 "cells": [
  {
   "cell_type": "code",
   "execution_count": 17,
   "metadata": {},
   "outputs": [],
   "source": [
    "import pandas as pd\n",
    "import matplotlib.pyplot as plt\n",
    "import plotly.express as px\n",
    "import seaborn as sns\n",
    "from sklearn.metrics import mean_absolute_error\n",
    "from category_encoders import OneHotEncoder\n",
    "from sklearn.linear_model import LinearRegression\n",
    "from sklearn.pipeline import Pipeline, make_pipeline\n",
    "from sklearn.model_selection import train_test_split\n"
   ]
  },
  {
   "cell_type": "code",
   "execution_count": 58,
   "metadata": {},
   "outputs": [
    {
     "data": {
      "text/html": [
       "<div>\n",
       "<style scoped>\n",
       "    .dataframe tbody tr th:only-of-type {\n",
       "        vertical-align: middle;\n",
       "    }\n",
       "\n",
       "    .dataframe tbody tr th {\n",
       "        vertical-align: top;\n",
       "    }\n",
       "\n",
       "    .dataframe thead th {\n",
       "        text-align: right;\n",
       "    }\n",
       "</style>\n",
       "<table border=\"1\" class=\"dataframe\">\n",
       "  <thead>\n",
       "    <tr style=\"text-align: right;\">\n",
       "      <th></th>\n",
       "      <th>TRAITS_COUNT</th>\n",
       "      <th>EARRING</th>\n",
       "      <th>BACKGROUND</th>\n",
       "      <th>FUR</th>\n",
       "      <th>EYES</th>\n",
       "      <th>MOUTH</th>\n",
       "      <th>HAT</th>\n",
       "      <th>CLOTHES</th>\n",
       "      <th>PRICE</th>\n",
       "    </tr>\n",
       "    <tr>\n",
       "      <th>token_id</th>\n",
       "      <th></th>\n",
       "      <th></th>\n",
       "      <th></th>\n",
       "      <th></th>\n",
       "      <th></th>\n",
       "      <th></th>\n",
       "      <th></th>\n",
       "      <th></th>\n",
       "      <th></th>\n",
       "    </tr>\n",
       "  </thead>\n",
       "  <tbody>\n",
       "    <tr>\n",
       "      <th>1</th>\n",
       "      <td>5</td>\n",
       "      <td>NaN</td>\n",
       "      <td>Orange</td>\n",
       "      <td>Robot</td>\n",
       "      <td>Blue Beams</td>\n",
       "      <td>Grin</td>\n",
       "      <td>NaN</td>\n",
       "      <td>Vietnam Jacket</td>\n",
       "      <td>71.95</td>\n",
       "    </tr>\n",
       "    <tr>\n",
       "      <th>2</th>\n",
       "      <td>5</td>\n",
       "      <td>NaN</td>\n",
       "      <td>Aquamarine</td>\n",
       "      <td>Robot</td>\n",
       "      <td>3d</td>\n",
       "      <td>Bored Cigarette</td>\n",
       "      <td>Sea Captain's Hat</td>\n",
       "      <td>NaN</td>\n",
       "      <td>71.95</td>\n",
       "    </tr>\n",
       "    <tr>\n",
       "      <th>3</th>\n",
       "      <td>5</td>\n",
       "      <td>NaN</td>\n",
       "      <td>Purple</td>\n",
       "      <td>Cheetah</td>\n",
       "      <td>Bored</td>\n",
       "      <td>Tongue Out</td>\n",
       "      <td>NaN</td>\n",
       "      <td>Bone Necklace</td>\n",
       "      <td>71.95</td>\n",
       "    </tr>\n",
       "    <tr>\n",
       "      <th>4</th>\n",
       "      <td>6</td>\n",
       "      <td>NaN</td>\n",
       "      <td>Blue</td>\n",
       "      <td>Golden Brown</td>\n",
       "      <td>Closed</td>\n",
       "      <td>Phoneme L</td>\n",
       "      <td>Party Hat 2</td>\n",
       "      <td>Navy Striped Tee</td>\n",
       "      <td>71.95</td>\n",
       "    </tr>\n",
       "    <tr>\n",
       "      <th>5</th>\n",
       "      <td>6</td>\n",
       "      <td>NaN</td>\n",
       "      <td>Army Green</td>\n",
       "      <td>Brown</td>\n",
       "      <td>X Eyes</td>\n",
       "      <td>Dumbfounded</td>\n",
       "      <td>Bayc Flipped Brim</td>\n",
       "      <td>Bayc T Red</td>\n",
       "      <td>71.95</td>\n",
       "    </tr>\n",
       "  </tbody>\n",
       "</table>\n",
       "</div>"
      ],
      "text/plain": [
       "          TRAITS_COUNT EARRING  BACKGROUND           FUR        EYES  \\\n",
       "token_id                                                               \n",
       "1                    5     NaN      Orange         Robot  Blue Beams   \n",
       "2                    5     NaN  Aquamarine         Robot          3d   \n",
       "3                    5     NaN      Purple       Cheetah       Bored   \n",
       "4                    6     NaN        Blue  Golden Brown      Closed   \n",
       "5                    6     NaN  Army Green         Brown      X Eyes   \n",
       "\n",
       "                    MOUTH                HAT           CLOTHES  PRICE  \n",
       "token_id                                                               \n",
       "1                    Grin                NaN    Vietnam Jacket  71.95  \n",
       "2         Bored Cigarette  Sea Captain's Hat               NaN  71.95  \n",
       "3              Tongue Out                NaN     Bone Necklace  71.95  \n",
       "4               Phoneme L        Party Hat 2  Navy Striped Tee  71.95  \n",
       "5             Dumbfounded  Bayc Flipped Brim        Bayc T Red  71.95  "
      ]
     },
     "execution_count": 58,
     "metadata": {},
     "output_type": "execute_result"
    }
   ],
   "source": [
    "df = pd.read_csv(\"/Users/baobach/ML-Projects/ml-nft-price-predictor/data/NFT_traits.csv\").set_index(\"token_id\")\n",
    "df.head()"
   ]
  },
  {
   "cell_type": "code",
   "execution_count": 48,
   "metadata": {},
   "outputs": [
    {
     "name": "stdout",
     "output_type": "stream",
     "text": [
      "<class 'pandas.core.frame.DataFrame'>\n",
      "Int64Index: 8961 entries, 1 to 9999\n",
      "Data columns (total 9 columns):\n",
      " #   Column        Non-Null Count  Dtype  \n",
      "---  ------        --------------  -----  \n",
      " 0   TRAITS_COUNT  8961 non-null   int64  \n",
      " 1   EARRING       2622 non-null   object \n",
      " 2   BACKGROUND    8961 non-null   object \n",
      " 3   FUR           8961 non-null   object \n",
      " 4   EYES          8961 non-null   object \n",
      " 5   MOUTH         8961 non-null   object \n",
      " 6   HAT           6949 non-null   object \n",
      " 7   CLOTHES       7264 non-null   object \n",
      " 8   PRICE         8961 non-null   float64\n",
      "dtypes: float64(1), int64(1), object(7)\n",
      "memory usage: 700.1+ KB\n"
     ]
    }
   ],
   "source": [
    "mask = df[\"PRICE\"] <= 80\n",
    "df = df[mask]\n",
    "df.info()"
   ]
  },
  {
   "cell_type": "code",
   "execution_count": 51,
   "metadata": {},
   "outputs": [
    {
     "data": {
      "text/plain": [
       "<AxesSubplot: >"
      ]
     },
     "execution_count": 51,
     "metadata": {},
     "output_type": "execute_result"
    },
    {
     "data": {
      "image/png": "[encoded data removed]",
      "text/plain": [
       "<Figure size 640x480 with 1 Axes>"
      ]
     },
     "metadata": {},
     "output_type": "display_data"
    }
   ],
   "source": [
    "df[\"PRICE\"].plot(kind=\"box\", vert=False)"
   ]
  },
  {
   "cell_type": "code",
   "execution_count": 47,
   "metadata": {},
   "outputs": [
    {
     "data": {
      "text/plain": [
       "count    9909.000000\n",
       "mean       36.282638\n",
       "std        35.786208\n",
       "min         0.000000\n",
       "10%         0.500000\n",
       "50%        24.500000\n",
       "90%        80.000000\n",
       "max       149.960000\n",
       "Name: PRICE, dtype: float64"
      ]
     },
     "execution_count": 47,
     "metadata": {},
     "output_type": "execute_result"
    }
   ],
   "source": [
    "df[\"PRICE\"].describe(percentiles = [0.1,0.5,0.9])"
   ]
  },
  {
   "cell_type": "code",
   "execution_count": 52,
   "metadata": {},
   "outputs": [
    {
     "name": "stdout",
     "output_type": "stream",
     "text": [
      "X_train shape: (7168, 8)\n",
      "y_train shape: (7168,)\n",
      "X_test shape: (1793, 8)\n",
      "y_test shape: (1793,)\n"
     ]
    }
   ],
   "source": [
    "target = \"PRICE\"\n",
    "X = df.drop(columns=target)\n",
    "y = df[target]\n",
    "X_train,X_test,y_train,y_test = train_test_split(X,y,test_size=0.2, random_state=7)\n",
    "print(\"X_train shape:\", X_train.shape)\n",
    "print(\"y_train shape:\", y_train.shape)\n",
    "print(\"X_test shape:\", X_test.shape)\n",
    "print(\"y_test shape:\", y_test.shape)"
   ]
  },
  {
   "attachments": {},
   "cell_type": "markdown",
   "metadata": {},
   "source": [
    "---\n",
    "Build model"
   ]
  },
  {
   "cell_type": "code",
   "execution_count": 56,
   "metadata": {},
   "outputs": [
    {
     "name": "stdout",
     "output_type": "stream",
     "text": [
      "Mean ape price: 29.55\n",
      "Baseline MAE: 27.85\n"
     ]
    }
   ],
   "source": [
    "# Find the mean of the train data set\n",
    "y_mean = y_train.mean()\n",
    "\n",
    "# Create a list of this mean -> multiply the varible to the number of total data points\n",
    "y_pred_baseline = [y_mean] * len(y_train)\n",
    "\n",
    "# Find the Mean Absolute Error of the Baseline\n",
    "mae_baseline = mean_absolute_error (y_train, y_pred_baseline)\n",
    "print(\"Mean ape price:\", round(y_mean, 2))\n",
    "print(\"Baseline MAE:\", round(mae_baseline, 2))"
   ]
  },
  {
   "cell_type": "code",
   "execution_count": 38,
   "metadata": {},
   "outputs": [
    {
     "data": {
      "text/html": [
       "<style>#sk-container-id-2 {color: black;background-color: white;}#sk-container-id-2 pre{padding: 0;}#sk-container-id-2 div.sk-toggleable {background-color: white;}#sk-container-id-2 label.sk-toggleable__label {cursor: pointer;display: block;width: 100%;margin-bottom: 0;padding: 0.3em;box-sizing: border-box;text-align: center;}#sk-container-id-2 label.sk-toggleable__label-arrow:before {content: \"▸\";float: left;margin-right: 0.25em;color: #696969;}#sk-container-id-2 label.sk-toggleable__label-arrow:hover:before {color: black;}#sk-container-id-2 div.sk-estimator:hover label.sk-toggleable__label-arrow:before {color: black;}#sk-container-id-2 div.sk-toggleable__content {max-height: 0;max-width: 0;overflow: hidden;text-align: left;background-color: #f0f8ff;}#sk-container-id-2 div.sk-toggleable__content pre {margin: 0.2em;color: black;border-radius: 0.25em;background-color: #f0f8ff;}#sk-container-id-2 input.sk-toggleable__control:checked~div.sk-toggleable__content {max-height: 200px;max-width: 100%;overflow: auto;}#sk-container-id-2 input.sk-toggleable__control:checked~label.sk-toggleable__label-arrow:before {content: \"▾\";}#sk-container-id-2 div.sk-estimator input.sk-toggleable__control:checked~label.sk-toggleable__label {background-color: #d4ebff;}#sk-container-id-2 div.sk-label input.sk-toggleable__control:checked~label.sk-toggleable__label {background-color: #d4ebff;}#sk-container-id-2 input.sk-hidden--visually {border: 0;clip: rect(1px 1px 1px 1px);clip: rect(1px, 1px, 1px, 1px);height: 1px;margin: -1px;overflow: hidden;padding: 0;position: absolute;width: 1px;}#sk-container-id-2 div.sk-estimator {font-family: monospace;background-color: #f0f8ff;border: 1px dotted black;border-radius: 0.25em;box-sizing: border-box;margin-bottom: 0.5em;}#sk-container-id-2 div.sk-estimator:hover {background-color: #d4ebff;}#sk-container-id-2 div.sk-parallel-item::after {content: \"\";width: 100%;border-bottom: 1px solid gray;flex-grow: 1;}#sk-container-id-2 div.sk-label:hover label.sk-toggleable__label {background-color: #d4ebff;}#sk-container-id-2 div.sk-serial::before {content: \"\";position: absolute;border-left: 1px solid gray;box-sizing: border-box;top: 0;bottom: 0;left: 50%;z-index: 0;}#sk-container-id-2 div.sk-serial {display: flex;flex-direction: column;align-items: center;background-color: white;padding-right: 0.2em;padding-left: 0.2em;position: relative;}#sk-container-id-2 div.sk-item {position: relative;z-index: 1;}#sk-container-id-2 div.sk-parallel {display: flex;align-items: stretch;justify-content: center;background-color: white;position: relative;}#sk-container-id-2 div.sk-item::before, #sk-container-id-2 div.sk-parallel-item::before {content: \"\";position: absolute;border-left: 1px solid gray;box-sizing: border-box;top: 0;bottom: 0;left: 50%;z-index: -1;}#sk-container-id-2 div.sk-parallel-item {display: flex;flex-direction: column;z-index: 1;position: relative;background-color: white;}#sk-container-id-2 div.sk-parallel-item:first-child::after {align-self: flex-end;width: 50%;}#sk-container-id-2 div.sk-parallel-item:last-child::after {align-self: flex-start;width: 50%;}#sk-container-id-2 div.sk-parallel-item:only-child::after {width: 0;}#sk-container-id-2 div.sk-dashed-wrapped {border: 1px dashed gray;margin: 0 0.4em 0.5em 0.4em;box-sizing: border-box;padding-bottom: 0.4em;background-color: white;}#sk-container-id-2 div.sk-label label {font-family: monospace;font-weight: bold;display: inline-block;line-height: 1.2em;}#sk-container-id-2 div.sk-label-container {text-align: center;}#sk-container-id-2 div.sk-container {/* jupyter's `normalize.less` sets `[hidden] { display: none; }` but bootstrap.min.css set `[hidden] { display: none !important; }` so we also need the `!important` here to be able to override the default hidden behavior on the sphinx rendered scikit-learn.org. See: https://github.com/scikit-learn/scikit-learn/issues/21755 */display: inline-block !important;position: relative;}#sk-container-id-2 div.sk-text-repr-fallback {display: none;}</style><div id=\"sk-container-id-2\" class=\"sk-top-container\"><div class=\"sk-text-repr-fallback\"><pre>Pipeline(steps=[(&#x27;onehotencoder&#x27;,\n",
       "                 OneHotEncoder(cols=[&#x27;EARRING&#x27;, &#x27;BACKGROUND&#x27;, &#x27;FUR&#x27;, &#x27;EYES&#x27;,\n",
       "                                     &#x27;MOUTH&#x27;, &#x27;HAT&#x27;, &#x27;CLOTHES&#x27;],\n",
       "                               use_cat_names=True)),\n",
       "                (&#x27;linearregression&#x27;, LinearRegression())])</pre><b>In a Jupyter environment, please rerun this cell to show the HTML representation or trust the notebook. <br />On GitHub, the HTML representation is unable to render, please try loading this page with nbviewer.org.</b></div><div class=\"sk-container\" hidden><div class=\"sk-item sk-dashed-wrapped\"><div class=\"sk-label-container\"><div class=\"sk-label sk-toggleable\"><input class=\"sk-toggleable__control sk-hidden--visually\" id=\"sk-estimator-id-4\" type=\"checkbox\" ><label for=\"sk-estimator-id-4\" class=\"sk-toggleable__label sk-toggleable__label-arrow\">Pipeline</label><div class=\"sk-toggleable__content\"><pre>Pipeline(steps=[(&#x27;onehotencoder&#x27;,\n",
       "                 OneHotEncoder(cols=[&#x27;EARRING&#x27;, &#x27;BACKGROUND&#x27;, &#x27;FUR&#x27;, &#x27;EYES&#x27;,\n",
       "                                     &#x27;MOUTH&#x27;, &#x27;HAT&#x27;, &#x27;CLOTHES&#x27;],\n",
       "                               use_cat_names=True)),\n",
       "                (&#x27;linearregression&#x27;, LinearRegression())])</pre></div></div></div><div class=\"sk-serial\"><div class=\"sk-item\"><div class=\"sk-estimator sk-toggleable\"><input class=\"sk-toggleable__control sk-hidden--visually\" id=\"sk-estimator-id-5\" type=\"checkbox\" ><label for=\"sk-estimator-id-5\" class=\"sk-toggleable__label sk-toggleable__label-arrow\">OneHotEncoder</label><div class=\"sk-toggleable__content\"><pre>OneHotEncoder(cols=[&#x27;EARRING&#x27;, &#x27;BACKGROUND&#x27;, &#x27;FUR&#x27;, &#x27;EYES&#x27;, &#x27;MOUTH&#x27;, &#x27;HAT&#x27;,\n",
       "                    &#x27;CLOTHES&#x27;],\n",
       "              use_cat_names=True)</pre></div></div></div><div class=\"sk-item\"><div class=\"sk-estimator sk-toggleable\"><input class=\"sk-toggleable__control sk-hidden--visually\" id=\"sk-estimator-id-6\" type=\"checkbox\" ><label for=\"sk-estimator-id-6\" class=\"sk-toggleable__label sk-toggleable__label-arrow\">LinearRegression</label><div class=\"sk-toggleable__content\"><pre>LinearRegression()</pre></div></div></div></div></div></div></div>"
      ],
      "text/plain": [
       "Pipeline(steps=[('onehotencoder',\n",
       "                 OneHotEncoder(cols=['EARRING', 'BACKGROUND', 'FUR', 'EYES',\n",
       "                                     'MOUTH', 'HAT', 'CLOTHES'],\n",
       "                               use_cat_names=True)),\n",
       "                ('linearregression', LinearRegression())])"
      ]
     },
     "execution_count": 38,
     "metadata": {},
     "output_type": "execute_result"
    }
   ],
   "source": [
    "model = make_pipeline(\n",
    "\tOneHotEncoder(use_cat_names = True),\n",
    "\tLinearRegression()\n",
    ")\n",
    "\n",
    "# Fit your model to the data\n",
    "model.fit(X_train, y_train)\n"
   ]
  },
  {
   "cell_type": "code",
   "execution_count": 54,
   "metadata": {},
   "outputs": [
    {
     "name": "stdout",
     "output_type": "stream",
     "text": [
      "Training MAE: 28.47333705357143\n"
     ]
    }
   ],
   "source": [
    "y_pred_training = model.predict(X_train)\n",
    "print(\"Training MAE:\", mean_absolute_error(y_train, y_pred_training))"
   ]
  },
  {
   "cell_type": "code",
   "execution_count": 55,
   "metadata": {},
   "outputs": [
    {
     "name": "stdout",
     "output_type": "stream",
     "text": [
      "Training MAE: 28.011885108756275\n"
     ]
    }
   ],
   "source": [
    "y_pred_test = model.predict(X_test)\n",
    "print(\"Training MAE:\", mean_absolute_error(y_test, y_pred_test))"
   ]
  },
  {
   "cell_type": "code",
   "execution_count": 41,
   "metadata": {},
   "outputs": [
    {
     "name": "stdout",
     "output_type": "stream",
     "text": [
      "price = 5131455693129216.0\n",
      "+ (-578426708476045.8 * TRAITS_COUNT)\n",
      "+ (-967973544773412.8 * EARRING_nan)\n",
      "+ (-389546836297362.3 * EARRING_Gold Hoop)\n",
      "+ (-389546836297365.8 * EARRING_Silver Hoop)\n",
      "+ (-389546836297361.8 * EARRING_Silver Stud)\n",
      "+ (-389546836297363.25 * EARRING_Gold Stud)\n",
      "+ (-389546836297357.75 * EARRING_Diamond Stud)\n",
      "+ (-389546836297361.8 * EARRING_Cross)\n",
      "+ (-500395571537166.56 * BACKGROUND_Orange)\n",
      "+ (-500395571537164.6 * BACKGROUND_Yellow)\n",
      "+ (-500395571537163.5 * BACKGROUND_Aquamarine)\n",
      "+ (-500395571537165.4 * BACKGROUND_Army Green)\n",
      "+ (-500395571537165.8 * BACKGROUND_Purple)\n",
      "+ (-500395571537165.06 * BACKGROUND_New Punk Blue)\n",
      "+ (-500395571537164.8 * BACKGROUND_Blue)\n",
      "+ (-500395571537162.0 * BACKGROUND_Gray)\n",
      "+ (-176923726580093.56 * FUR_Black)\n",
      "+ (-176923726580092.94 * FUR_Cream)\n",
      "+ (-176923726580094.94 * FUR_Red)\n",
      "+ (-176923726580085.2 * FUR_Trippy)\n",
      "+ (-176923726580093.8 * FUR_Cheetah)\n",
      "+ (-176923726580094.5 * FUR_Brown)\n",
      "+ (-176923726580095.0 * FUR_Dark Brown)\n",
      "+ (-176923726580096.2 * FUR_Tan)\n",
      "+ (-176923726580096.2 * FUR_Gray)\n",
      "+ (-176923726580094.8 * FUR_Robot)\n",
      "+ (-176923726580093.7 * FUR_Blue)\n",
      "+ (-176923726580094.53 * FUR_Golden Brown)\n",
      "+ (-176923726580096.03 * FUR_Pink)\n",
      "+ (-176923726580090.47 * FUR_White)\n",
      "+ (-176923726580089.16 * FUR_Noise)\n",
      "+ (-176923726580091.7 * FUR_Zombie)\n",
      "+ (-176923726580085.44 * FUR_Death Bot)\n",
      "+ (-176923726580089.16 * FUR_Dmt)\n",
      "+ (-176923726580083.75 * FUR_Solid Gold)\n",
      "+ (34775228465857.01 * EYES_Zombie)\n",
      "+ (34775228465858.52 * EYES_Bloodshot)\n",
      "+ (34775228465865.22 * EYES_Holographic)\n",
      "+ (34775228465856.81 * EYES_Bored)\n",
      "+ (34775228465858.03 * EYES_Angry)\n",
      "+ (34775228465858.36 * EYES_Hypnotized)\n",
      "+ (34775228465858.07 * EYES_Heart)\n",
      "+ (34775228465863.42 * EYES_X Eyes)\n",
      "+ (34775228465859.97 * EYES_Crazy)\n",
      "+ (34775228465855.34 * EYES_Closed)\n",
      "+ (34775228465855.33 * EYES_Wide Eyed)\n",
      "+ (34775228465856.7 * EYES_Sad)\n",
      "+ (34775228465858.36 * EYES_Coins)\n",
      "+ (34775228465859.4 * EYES_3d)\n",
      "+ (34775228465862.04 * EYES_Cyborg)\n",
      "+ (34775228465855.38 * EYES_Eyepatch)\n",
      "+ (34775228465856.31 * EYES_Sleepy)\n",
      "+ (34775228465859.12 * EYES_Robot)\n",
      "+ (34775228465856.38 * EYES_Sunglasses)\n",
      "+ (34775228465858.88 * EYES_Blindfold)\n",
      "+ (34775228465855.69 * EYES_Scumbag)\n",
      "+ (34775228465860.86 * EYES_Laser Eyes)\n",
      "+ (34775228465856.53 * EYES_Blue Beams)\n",
      "+ (28083685546817.06 * MOUTH_Dumbfounded)\n",
      "+ (28083685546818.56 * MOUTH_Bored)\n",
      "+ (28083685546819.44 * MOUTH_Phoneme Wah)\n",
      "+ (28083685546822.54 * MOUTH_Bored Dagger)\n",
      "+ (28083685546834.28 * MOUTH_Bored Unshaven Pizza)\n",
      "+ (28083685546820.78 * MOUTH_Phoneme Vuh)\n",
      "+ (28083685546815.34 * MOUTH_Tongue Out)\n",
      "+ (28083685546821.03 * MOUTH_Bored Unshaven Cigarette)\n",
      "+ (28083685546817.36 * MOUTH_Grin)\n",
      "+ (28083685546819.58 * MOUTH_Bored Unshaven)\n",
      "+ (28083685546832.92 * MOUTH_Bored Unshaven Bubblegum)\n",
      "+ (28083685546819.19 * MOUTH_Bored Cigar)\n",
      "+ (28083685546823.03 * MOUTH_Rage)\n",
      "+ (28083685546816.64 * MOUTH_Bored Cigarette)\n",
      "+ (28083685546819.98 * MOUTH_Grin Multicolored)\n",
      "+ (28083685546823.42 * MOUTH_Bored Kazoo)\n",
      "+ (28083685546820.4 * MOUTH_Grin Gold Grill)\n",
      "+ (28083685546822.02 * MOUTH_Bored Party Horn)\n",
      "+ (28083685546821.76 * MOUTH_Discomfort)\n",
      "+ (28083685546816.36 * MOUTH_Jovial)\n",
      "+ (28083685546821.88 * MOUTH_Phoneme L)\n",
      "+ (28083685546818.74 * MOUTH_Phoneme  ooo)\n",
      "+ (28083685546824.83 * MOUTH_Bored Unshaven Pipe)\n",
      "+ (28083685546821.54 * MOUTH_Phoneme Oh)\n",
      "+ (28083685546828.29 * MOUTH_Bored Pizza)\n",
      "+ (28083685546822.1 * MOUTH_Bored Bubblegum)\n",
      "+ (28083685546816.22 * MOUTH_Bored Pipe)\n",
      "+ (28083685546819.42 * MOUTH_Small Grin)\n",
      "+ (28083685546822.89 * MOUTH_Bored Unshaven Cigar)\n",
      "+ (28083685546822.14 * MOUTH_Grin Diamond Grill)\n",
      "+ (28083685546825.22 * MOUTH_Bored Unshaven Party horn)\n",
      "+ (28083685546824.28 * MOUTH_Bored Unshaven Dagger)\n",
      "+ (28083685546822.48 * MOUTH_Bored Unshaven Kazoo)\n",
      "+ (-645580787263046.0 * HAT_nan)\n",
      "+ (-67154078787006.0 * HAT_Bunny Ears)\n",
      "+ (-67154078786999.53 * HAT_Faux Hawk)\n",
      "+ (-67154078786994.84 * HAT_Horns)\n",
      "+ (-67154078786999.47 * HAT_Sea Captain's Hat)\n",
      "+ (-67154078787003.92 * HAT_Safari)\n",
      "+ (-67154078786999.53 * HAT_Seaman's Hat)\n",
      "+ (-67154078786999.78 * HAT_Fez)\n",
      "+ (-67154078787000.47 * HAT_Beanie)\n",
      "+ (-67154078787000.77 * HAT_Cowboy Hat)\n",
      "+ (-67154078787005.12 * HAT_Vietnam Era Helmet)\n",
      "+ (-67154078786998.09 * HAT_S&m Hat)\n",
      "+ (-67154078787003.52 * HAT_Fisherman's Hat)\n",
      "+ (-67154078786994.88 * HAT_Prussian Helmet)\n",
      "+ (-67154078786999.06 * HAT_Stuntman Helmet)\n",
      "+ (-67154078787002.48 * HAT_Bayc Flipped Brim)\n",
      "+ (-67154078787001.28 * HAT_Army Hat)\n",
      "+ (-67154078786997.98 * HAT_Bayc Hat Black)\n",
      "+ (-67154078787003.52 * HAT_Bayc Hat Red)\n",
      "+ (-67154078786995.31 * HAT_Baby's Bonnet)\n",
      "+ (-67154078786993.44 * HAT_Spinner Hat)\n",
      "+ (-67154078787000.92 * HAT_Commie Hat)\n",
      "+ (-67154078786997.36 * HAT_Sushi Chef Headband)\n",
      "+ (-67154078787002.22 * HAT_Halo)\n",
      "+ (-67154078787002.41 * HAT_Laurel Wreath)\n",
      "+ (-67154078786994.0 * HAT_King's Crown)\n",
      "+ (-67154078786998.16 * HAT_Party Hat 1)\n",
      "+ (-67154078787000.49 * HAT_Girl's Hair Short)\n",
      "+ (-67154078786994.01 * HAT_Party Hat 2)\n",
      "+ (-67154078786997.95 * HAT_Short Mohawk)\n",
      "+ (-67154078786998.62 * HAT_Police Motorcycle Helmet)\n",
      "+ (-67154078786997.94 * HAT_Irish Boho)\n",
      "+ (-67154078786995.57 * HAT_Trippy Captain's Hat)\n",
      "+ (-67154078786999.19 * HAT_Ww2 Pilot Helm)\n",
      "+ (-67154078786994.63 * HAT_Girl's Hair Pink)\n",
      "+ (-67154078787005.27 * HAT_Bowler)\n",
      "+ (-67154078787000.78 * HAT_Bandana Blue)\n",
      "+ (-11307434607915.05 * CLOTHES_Sleeveless T)\n",
      "+ (-11307434607915.35 * CLOTHES_Sleeveless Logo T)\n",
      "+ (-11307434607905.21 * CLOTHES_Leather Punk Jacket)\n",
      "+ (-11307434607911.53 * CLOTHES_Tanktop)\n",
      "+ (-589734143083959.0 * CLOTHES_nan)\n",
      "+ (-11307434607915.36 * CLOTHES_Bayc T Black)\n",
      "+ (-11307434607914.14 * CLOTHES_Smoking Jacket)\n",
      "+ (-11307434607914.94 * CLOTHES_Bandolier)\n",
      "+ (-11307434607910.81 * CLOTHES_Hawaiian)\n",
      "+ (-11307434607915.37 * CLOTHES_Rainbow Suspenders)\n",
      "+ (-11307434607905.31 * CLOTHES_Black Holes T)\n",
      "+ (-11307434607914.76 * CLOTHES_Lumberjack Shirt)\n",
      "+ (-11307434607913.22 * CLOTHES_Space Suit)\n",
      "+ (-11307434607911.88 * CLOTHES_Vietnam Jacket)\n",
      "+ (-11307434607911.42 * CLOTHES_Puffy Vest)\n",
      "+ (-11307434607913.23 * CLOTHES_Bayc T Red)\n",
      "+ (-11307434607912.92 * CLOTHES_Navy Striped Tee)\n",
      "+ (-11307434607914.38 * CLOTHES_Biker Vest)\n",
      "+ (-11307434607909.71 * CLOTHES_Hip Hop)\n",
      "+ (-11307434607910.38 * CLOTHES_Tuxedo Tee)\n",
      "+ (-11307434607912.69 * CLOTHES_Striped Tee)\n",
      "+ (-11307434607910.8 * CLOTHES_Caveman Pelt)\n",
      "+ (-11307434607909.68 * CLOTHES_Black T)\n",
      "+ (-11307434607908.44 * CLOTHES_Wool Turtleneck)\n",
      "+ (-11307434607907.79 * CLOTHES_Leather Jacket)\n",
      "+ (-11307434607911.17 * CLOTHES_Stunt Jacket)\n",
      "+ (-11307434607892.94 * CLOTHES_Kings Robe)\n",
      "+ (-11307434607912.97 * CLOTHES_Bone Tee)\n",
      "+ (-11307434607913.76 * CLOTHES_Service)\n",
      "+ (-11307434607908.16 * CLOTHES_Toga)\n",
      "+ (-11307434607917.44 * CLOTHES_Prom Dress)\n",
      "+ (-11307434607914.18 * CLOTHES_Sailor Shirt)\n",
      "+ (-11307434607912.9 * CLOTHES_Bone Necklace)\n",
      "+ (-11307434607904.89 * CLOTHES_Admirals Coat)\n",
      "+ (-11307434607907.29 * CLOTHES_Pimp Coat)\n",
      "+ (-11307434607912.69 * CLOTHES_Guayabera)\n",
      "+ (-11307434607910.0 * CLOTHES_Prison Jumpsuit)\n",
      "+ (-11307434607910.92 * CLOTHES_Lab Coat)\n",
      "+ (-11307434607911.35 * CLOTHES_Blue Dress)\n",
      "+ (-11307434607901.86 * CLOTHES_Black Suit)\n",
      "+ (-11307434607911.52 * CLOTHES_Work Vest)\n",
      "+ (-11307434607906.24 * CLOTHES_Tie Dye)\n",
      "+ (-11307434607914.23 * CLOTHES_Tweed Suit)\n",
      "+ (-11307434607909.72 * CLOTHES_Cowboy Shirt)\n"
     ]
    }
   ],
   "source": [
    "# Find the intercept from the {pipeline}\n",
    "intercept = model.named_steps[\"linearregression\"].intercept_.round(2)\n",
    "\n",
    "# Find the coefficient from the {pipeline}\n",
    "coefficients = model.named_steps[\"linearregression\"].coef_.round(2)\n",
    "\n",
    "#Extract the feature names of your encoded data from the OneHotEncoder in your model.\n",
    "feature_names = model.named_steps[\"onehotencoder\"].get_feature_names()\n",
    "\n",
    "#Create a pandas Series named feat_imp where the index is your features and the values are your coefficients\n",
    "feat_imp = pd.Series(coefficients, index=feature_names)\n",
    "\n",
    "#Print the function\n",
    "print(f\"price = {intercept.round(2)}\")\n",
    "for f, c in feat_imp.items():\n",
    "\tprint(f\"+ ({round(c, 2)} * {f})\")"
   ]
  },
  {
   "cell_type": "code",
   "execution_count": null,
   "metadata": {},
   "outputs": [],
   "source": []
  }
 ],
 "metadata": {
  "kernelspec": {
   "display_name": "base",
   "language": "python",
   "name": "python3"
  },
  "language_info": {
   "codemirror_mode": {
    "name": "ipython",
    "version": 3
   },
   "file_extension": ".py",
   "mimetype": "text/x-python",
   "name": "python",
   "nbconvert_exporter": "python",
   "pygments_lexer": "ipython3",
   "version": "3.9.13 (main, Aug 25 2022, 18:29:29) \n[Clang 12.0.0 ]"
  },
  "orig_nbformat": 4,
  "vscode": {
   "interpreter": {
    "hash": "964ae86e7d2a4d18eccf98c7c4024c79ec7ee490b0c5fee6bba2152d7a2aa697"
   }
  }
 },
 "nbformat": 4,
 "nbformat_minor": 2
}
